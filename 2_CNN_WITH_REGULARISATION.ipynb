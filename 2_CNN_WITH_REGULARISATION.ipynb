{
  "cells": [
    {
      "cell_type": "code",
      "execution_count": 1,
      "metadata": {
        "id": "zHuxP8JWdna0"
      },
      "outputs": [],
      "source": [
        "import pandas as pd\n",
        "from sklearn.datasets import make_classification\n",
        "import seaborn as sns\n",
        "import matplotlib.pyplot as plt\n",
        "import numpy as np\n",
        "from keras.models import Sequential\n",
        "import tensorflow as tf\n",
        "from sklearn.model_selection import train_test_split\n",
        "from keras import regularizers\n",
        "from keras.callbacks import EarlyStopping\n",
        "#import plotly.express as px\n",
        "from keras.layers import Dense,Dropout,Conv1D,MaxPooling1D,Flatten,BatchNormalization\n",
        "from tensorflow.keras import layers,initializers\n",
        "from keras.callbacks import LearningRateScheduler\n",
        "from keras.callbacks import History\n",
        "from keras import losses\n",
        "#from livelossplot import PlotLossesKeras\n",
        "from keras.callbacks import EarlyStopping"
      ]
    },
    {
      "cell_type": "code",
      "execution_count": 2,
      "metadata": {
        "id": "iGafyK39Z8ah"
      },
      "outputs": [],
      "source": [
        "#pip install livelossplot"
      ]
    },
    {
      "cell_type": "code",
      "execution_count": 3,
      "metadata": {
        "id": "N-51EIrFfMN5"
      },
      "outputs": [],
      "source": [
        "x,y=make_classification(n_samples=10000,n_features=100,n_informative=5,n_redundant=15,random_state=1)"
      ]
    },
    {
      "cell_type": "code",
      "execution_count": 4,
      "metadata": {
        "id": "uY1n7OZdgGcw"
      },
      "outputs": [],
      "source": [
        "x_train,x_test,y_train,y_test=train_test_split(x,y,test_size=.25,random_state=42)"
      ]
    },
    {
      "cell_type": "code",
      "execution_count": 5,
      "metadata": {
        "colab": {
          "base_uri": "https://localhost:8080/"
        },
        "id": "u0KLtIl2gQNN",
        "outputId": "050337d6-2191-4a0a-fbbd-6862803025fb"
      },
      "outputs": [
        {
          "output_type": "stream",
          "name": "stdout",
          "text": [
            "(7500, 100) (7500,)\n",
            "(2500, 100) (2500,)\n"
          ]
        }
      ],
      "source": [
        "print(x_train.shape,y_train.shape)\n",
        "print(x_test.shape,y_test.shape)"
      ]
    },
    {
      "cell_type": "markdown",
      "metadata": {
        "id": "BtL8Y5IGiDuL"
      },
      "source": [
        "# **WITHOUT REGULARISATION**"
      ]
    },
    {
      "cell_type": "code",
      "execution_count": 6,
      "metadata": {
        "id": "o21CeZechigL"
      },
      "outputs": [],
      "source": [
        "model=Sequential()\n",
        "initializer=tf.keras.initializers.GlorotUniform() #Xavier intialiser for weights (The Glorot uniform initializer, also known as the Xavier uniform initializer, randomly selects values from a uniform distribution ranging -limit to +limit)\n",
        "model.add(Conv1D(64,2,activation='relu',kernel_initializer=initializer,input_shape=(100,1),use_bias=False))  #The filter (64)--the number of output filters in convention layer in CNN,kernal size=height*width\n",
        "model.add(BatchNormalization())\n",
        "model.add(Dense(32,activation=\"relu\"))\n",
        "model.add(BatchNormalization())\n",
        "model.add(MaxPooling1D())\n",
        "model.add(Flatten())\n",
        "model.add(Dense(2,activation=\"softmax\"))"
      ]
    },
    {
      "cell_type": "code",
      "execution_count": 7,
      "metadata": {
        "id": "Q7KcnctclUXQ"
      },
      "outputs": [],
      "source": [
        "model.compile(optimizer='sgd',loss='sparse_categorical_crossentropy',metrics=['accuracy'])"
      ]
    },
    {
      "cell_type": "code",
      "execution_count": 8,
      "metadata": {
        "id": "A3OP04Lasr5O"
      },
      "outputs": [],
      "source": [
        "history=model.fit(x_train,y_train,epochs=50,validation_data=(x_test,y_test),verbose=0)"
      ]
    },
    {
      "cell_type": "code",
      "execution_count": 9,
      "metadata": {
        "colab": {
          "base_uri": "https://localhost:8080/"
        },
        "id": "bLKhZ8L8wCBL",
        "outputId": "f80812aa-3a55-471c-887a-d042aad57f95"
      },
      "outputs": [
        {
          "output_type": "stream",
          "name": "stdout",
          "text": [
            "Model: \"sequential\"\n",
            "_________________________________________________________________\n",
            " Layer (type)                Output Shape              Param #   \n",
            "=================================================================\n",
            " conv1d (Conv1D)             (None, 99, 64)            128       \n",
            "                                                                 \n",
            " batch_normalization (Batch  (None, 99, 64)            256       \n",
            " Normalization)                                                  \n",
            "                                                                 \n",
            " dense (Dense)               (None, 99, 32)            2080      \n",
            "                                                                 \n",
            " batch_normalization_1 (Bat  (None, 99, 32)            128       \n",
            " chNormalization)                                                \n",
            "                                                                 \n",
            " max_pooling1d (MaxPooling1  (None, 49, 32)            0         \n",
            " D)                                                              \n",
            "                                                                 \n",
            " flatten (Flatten)           (None, 1568)              0         \n",
            "                                                                 \n",
            " dense_1 (Dense)             (None, 2)                 3138      \n",
            "                                                                 \n",
            "=================================================================\n",
            "Total params: 5730 (22.38 KB)\n",
            "Trainable params: 5538 (21.63 KB)\n",
            "Non-trainable params: 192 (768.00 Byte)\n",
            "_________________________________________________________________\n"
          ]
        }
      ],
      "source": [
        "model.summary()"
      ]
    },
    {
      "cell_type": "code",
      "execution_count": 10,
      "metadata": {
        "colab": {
          "base_uri": "https://localhost:8080/"
        },
        "id": "pd64Jmjpzy1A",
        "outputId": "a28fc09d-9f1c-431a-9e5d-a4fbbf1c971e"
      },
      "outputs": [
        {
          "output_type": "stream",
          "name": "stdout",
          "text": [
            "79/79 [==============================] - 0s 4ms/step - loss: 0.2767 - accuracy: 0.8972\n",
            "Accuracy = 89.71999883651733\n",
            "Loss = 27.673456072807312\n"
          ]
        }
      ],
      "source": [
        "loss, accuracy =model.evaluate(x_test, y_test)\n",
        "print('Accuracy =', (accuracy*100))\n",
        "print(\"Loss =\",(loss*100))"
      ]
    },
    {
      "cell_type": "code",
      "execution_count": 11,
      "metadata": {
        "id": "gfNNKiI08eEc"
      },
      "outputs": [],
      "source": [
        "def plot_learningCurve(history, epoch):\n",
        "  # Plot training & validation accuracy values\n",
        "  plt.figure(figsize=(5,5))\n",
        "  epoch_range = range(1, epoch+1)\n",
        "  plt.plot(epoch_range, history.history['accuracy'])\n",
        "  plt.plot(epoch_range, history.history['val_accuracy'])\n",
        "  plt.title('Model accuracy')\n",
        "  plt.ylabel('Accuracy')\n",
        "  plt.xlabel('Epoch')\n",
        "  plt.legend(['Train', 'Val'], loc='upper left')\n",
        "  plt.show()\n",
        "\n",
        "  # Plot training & validation loss values\n",
        "  plt.figure(figsize=(5,5))\n",
        "  plt.plot(epoch_range, history.history['loss'])\n",
        "  plt.plot(epoch_range, history.history['val_loss'])\n",
        "  plt.title('Model loss')\n",
        "  plt.ylabel('Loss')\n",
        "  plt.xlabel('Epoch')\n",
        "  plt.legend(['Train', 'Val'], loc='upper left')\n",
        "  plt.show()"
      ]
    },
    {
      "cell_type": "code",
      "execution_count": 12,
      "metadata": {
        "colab": {
          "base_uri": "https://localhost:8080/",
          "height": 957
        },
        "id": "3NAYbVtp8fyh",
        "outputId": "1791a07e-a869-4d1d-d958-8105baf6d1a5"
      },
      "outputs": [
        {
          "output_type": "display_data",
          "data": {
            "text/plain": [
              "<Figure size 500x500 with 1 Axes>"
            ],
            "image/png": "[encoded data removed]"
          },
          "metadata": {}
        },
        {
          "output_type": "display_data",
          "data": {
            "text/plain": [
              "<Figure size 500x500 with 1 Axes>"
            ],
            "image/png": "[encoded data removed]"
          },
          "metadata": {}
        }
      ],
      "source": [
        "plot_learningCurve(history,50)"
      ]
    },
    {
      "cell_type": "markdown",
      "metadata": {
        "id": "I2hGwQDD-j0J"
      },
      "source": [
        "The model is **ovefitted**.To reduce overfiited we are using regularsiation methods.\n",
        "\n",
        "Regularisation Methods\n",
        "\n",
        "*Dropout\n",
        "\n",
        "*L1 and L2\n",
        "\n",
        "*Early Stopping"
      ]
    },
    {
      "cell_type": "markdown",
      "metadata": {
        "id": "DPHSz4HhFo5L"
      },
      "source": [
        "# **DROPOUT**"
      ]
    },
    {
      "cell_type": "code",
      "execution_count": 13,
      "metadata": {
        "id": "ao7_Hv_5-EpE"
      },
      "outputs": [],
      "source": [
        "model1=Sequential()\n",
        "initializer=tf.keras.initializers.GlorotUniform() #Xavier intialiser for weights\n",
        "model1.add(Conv1D(64,2,activation='relu',kernel_initializer=initializer,input_shape=(100,1),use_bias=False))  #The filter (64)--the number of output filters in convention layer in CNN,kernal size=height*width\n",
        "model1.add(Dropout(0.5))\n",
        "model1.add(BatchNormalization())\n",
        "model1.add(Dense(32,activation=\"relu\"))\n",
        "model1.add(Dropout(0.2))\n",
        "model1.add(BatchNormalization())\n",
        "model1.add(MaxPooling1D())\n",
        "model1.add(Flatten())\n",
        "model1.add(Dense(2,activation=\"softmax\"))"
      ]
    },
    {
      "cell_type": "code",
      "execution_count": 14,
      "metadata": {
        "id": "5mYX7DOI_c_y"
      },
      "outputs": [],
      "source": [
        "model1.compile(optimizer='adam',loss='sparse_categorical_crossentropy',metrics=['accuracy'])"
      ]
    },
    {
      "cell_type": "code",
      "execution_count": 15,
      "metadata": {
        "id": "4ujW0cWa_g1_"
      },
      "outputs": [],
      "source": [
        "history=model1.fit(x_train,y_train,epochs=50,validation_data=(x_test,y_test),verbose=0)"
      ]
    },
    {
      "cell_type": "code",
      "execution_count": 16,
      "metadata": {
        "colab": {
          "base_uri": "https://localhost:8080/"
        },
        "id": "F0soYCIl_pjI",
        "outputId": "5eb2da6f-8d66-4355-819c-55fc67a4f0c6"
      },
      "outputs": [
        {
          "output_type": "stream",
          "name": "stdout",
          "text": [
            "Model: \"sequential_1\"\n",
            "_________________________________________________________________\n",
            " Layer (type)                Output Shape              Param #   \n",
            "=================================================================\n",
            " conv1d_1 (Conv1D)           (None, 99, 64)            128       \n",
            "                                                                 \n",
            " dropout (Dropout)           (None, 99, 64)            0         \n",
            "                                                                 \n",
            " batch_normalization_2 (Bat  (None, 99, 64)            256       \n",
            " chNormalization)                                                \n",
            "                                                                 \n",
            " dense_2 (Dense)             (None, 99, 32)            2080      \n",
            "                                                                 \n",
            " dropout_1 (Dropout)         (None, 99, 32)            0         \n",
            "                                                                 \n",
            " batch_normalization_3 (Bat  (None, 99, 32)            128       \n",
            " chNormalization)                                                \n",
            "                                                                 \n",
            " max_pooling1d_1 (MaxPoolin  (None, 49, 32)            0         \n",
            " g1D)                                                            \n",
            "                                                                 \n",
            " flatten_1 (Flatten)         (None, 1568)              0         \n",
            "                                                                 \n",
            " dense_3 (Dense)             (None, 2)                 3138      \n",
            "                                                                 \n",
            "=================================================================\n",
            "Total params: 5730 (22.38 KB)\n",
            "Trainable params: 5538 (21.63 KB)\n",
            "Non-trainable params: 192 (768.00 Byte)\n",
            "_________________________________________________________________\n"
          ]
        }
      ],
      "source": [
        "model1.summary()"
      ]
    },
    {
      "cell_type": "code",
      "execution_count": 17,
      "metadata": {
        "colab": {
          "base_uri": "https://localhost:8080/"
        },
        "id": "az1F3LUX_rvV",
        "outputId": "0bc6ea1b-9986-449f-8594-6e897c01b9d7"
      },
      "outputs": [
        {
          "output_type": "stream",
          "name": "stdout",
          "text": [
            "79/79 [==============================] - 0s 4ms/step - loss: 0.2419 - accuracy: 0.9084\n",
            "Accuracy = 90.83999991416931\n",
            "Loss = 24.18893575668335\n"
          ]
        }
      ],
      "source": [
        "loss, accuracy =model1.evaluate(x_test, y_test)\n",
        "print('Accuracy =', (accuracy*100))\n",
        "print(\"Loss =\",(loss*100))"
      ]
    },
    {
      "cell_type": "code",
      "execution_count": 18,
      "metadata": {
        "id": "7KPo9j1y_1L_"
      },
      "outputs": [],
      "source": [
        "def plot_learningCurve(history, epoch):\n",
        "  # Plot training & validation accuracy values\n",
        "  plt.figure(figsize=(5,5))\n",
        "  epoch_range = range(1, epoch+1)\n",
        "  plt.plot(epoch_range, history.history['accuracy'])\n",
        "  plt.plot(epoch_range, history.history['val_accuracy'])\n",
        "  plt.title('Model accuracy')\n",
        "  plt.ylabel('Accuracy')\n",
        "  plt.xlabel('Epoch')\n",
        "  plt.legend(['Train', 'Val'], loc='upper left')\n",
        "  plt.show()\n",
        "\n",
        "  # Plot training & validation loss values\n",
        "  plt.figure(figsize=(5,5))\n",
        "  plt.plot(epoch_range, history.history['loss'])\n",
        "  plt.plot(epoch_range, history.history['val_loss'])\n",
        "  plt.title('Model loss')\n",
        "  plt.ylabel('Loss')\n",
        "  plt.xlabel('Epoch')\n",
        "  plt.legend(['Train', 'Val'], loc='upper left')\n",
        "  plt.show()"
      ]
    },
    {
      "cell_type": "code",
      "execution_count": 19,
      "metadata": {
        "colab": {
          "base_uri": "https://localhost:8080/",
          "height": 957
        },
        "id": "v39jwsy_BRBY",
        "outputId": "38d1d991-8dcc-45f8-a3be-32d18c5d7a7d"
      },
      "outputs": [
        {
          "output_type": "display_data",
          "data": {
            "text/plain": [
              "<Figure size 500x500 with 1 Axes>"
            ],
            "image/png": "[encoded data removed]"
          },
          "metadata": {}
        },
        {
          "output_type": "display_data",
          "data": {
            "text/plain": [
              "<Figure size 500x500 with 1 Axes>"
            ],
            "image/png": "[encoded data removed]"
          },
          "metadata": {}
        }
      ],
      "source": [
        "plot_learningCurve(history,50)"
      ]
    },
    {
      "cell_type": "markdown",
      "metadata": {
        "id": "6W30o7nbB0y6"
      },
      "source": [
        "# **L1 and L2 Regularisation**"
      ]
    },
    {
      "cell_type": "code",
      "execution_count": 20,
      "metadata": {
        "id": "K-UzDylPBx8S"
      },
      "outputs": [],
      "source": [
        "model2=Sequential()\n",
        "initializer=tf.keras.initializers.GlorotUniform() #Xavier intialiser for weights\n",
        "model2.add(Conv1D(64,2,activation='relu',kernel_initializer=initializer,input_shape=(100,1),kernel_regularizer =tf.keras.regularizers.l1( l=0.01),use_bias=False))  #The filter (64)--the number of output filters in convention layer in CNN,kernal size=height*width\n",
        "model2.add(BatchNormalization())\n",
        "model2.add(Dense(32,activation=\"relu\"))\n",
        "model2.add(BatchNormalization())\n",
        "model2.add(MaxPooling1D())\n",
        "model2.add(Flatten())\n",
        "model2.add(Dense(2,activation=\"softmax\"))"
      ]
    },
    {
      "cell_type": "code",
      "execution_count": 21,
      "metadata": {
        "id": "-yhNJZX7JLOh"
      },
      "outputs": [],
      "source": [
        "model2.compile(optimizer='adam',loss='sparse_categorical_crossentropy',metrics=['accuracy'])"
      ]
    },
    {
      "cell_type": "code",
      "execution_count": 22,
      "metadata": {
        "id": "6j-Q_LOjFH4Z"
      },
      "outputs": [],
      "source": [
        "history=model2.fit(x_train,y_train,epochs=50,validation_data=(x_test,y_test),verbose=0)"
      ]
    },
    {
      "cell_type": "code",
      "execution_count": 23,
      "metadata": {
        "colab": {
          "base_uri": "https://localhost:8080/"
        },
        "id": "i74SUJZfF9Dp",
        "outputId": "5097d586-798e-4bc6-d49c-260de5727c10"
      },
      "outputs": [
        {
          "output_type": "stream",
          "name": "stdout",
          "text": [
            "Model: \"sequential_2\"\n",
            "_________________________________________________________________\n",
            " Layer (type)                Output Shape              Param #   \n",
            "=================================================================\n",
            " conv1d_2 (Conv1D)           (None, 99, 64)            128       \n",
            "                                                                 \n",
            " batch_normalization_4 (Bat  (None, 99, 64)            256       \n",
            " chNormalization)                                                \n",
            "                                                                 \n",
            " dense_4 (Dense)             (None, 99, 32)            2080      \n",
            "                                                                 \n",
            " batch_normalization_5 (Bat  (None, 99, 32)            128       \n",
            " chNormalization)                                                \n",
            "                                                                 \n",
            " max_pooling1d_2 (MaxPoolin  (None, 49, 32)            0         \n",
            " g1D)                                                            \n",
            "                                                                 \n",
            " flatten_2 (Flatten)         (None, 1568)              0         \n",
            "                                                                 \n",
            " dense_5 (Dense)             (None, 2)                 3138      \n",
            "                                                                 \n",
            "=================================================================\n",
            "Total params: 5730 (22.38 KB)\n",
            "Trainable params: 5538 (21.63 KB)\n",
            "Non-trainable params: 192 (768.00 Byte)\n",
            "_________________________________________________________________\n"
          ]
        }
      ],
      "source": [
        "model2.summary()"
      ]
    },
    {
      "cell_type": "code",
      "execution_count": 24,
      "metadata": {
        "colab": {
          "base_uri": "https://localhost:8080/"
        },
        "id": "fo3DsjdxF_ij",
        "outputId": "0a8d74e4-35b3-4587-af45-e7fa4705f755"
      },
      "outputs": [
        {
          "output_type": "stream",
          "name": "stdout",
          "text": [
            "79/79 [==============================] - 0s 4ms/step - loss: 0.3097 - accuracy: 0.9020\n",
            "Accuracy = 90.20000100135803\n",
            "Loss = 30.97330629825592\n"
          ]
        }
      ],
      "source": [
        "loss, accuracy =model2.evaluate(x_test, y_test)\n",
        "print('Accuracy =', (accuracy*100))\n",
        "print(\"Loss =\",(loss*100))"
      ]
    },
    {
      "cell_type": "code",
      "execution_count": 25,
      "metadata": {
        "id": "I403M-ICGBfk"
      },
      "outputs": [],
      "source": [
        "def plot_learningCurve(history, epoch):\n",
        "  # Plot training & validation accuracy values\n",
        "  plt.figure(figsize=(5,5))\n",
        "  epoch_range = range(1, epoch+1)\n",
        "  plt.plot(epoch_range, history.history['accuracy'])\n",
        "  plt.plot(epoch_range, history.history['val_accuracy'])\n",
        "  plt.title('Model accuracy')\n",
        "  plt.ylabel('Accuracy')\n",
        "  plt.xlabel('Epoch')\n",
        "  plt.legend(['Train', 'Val'], loc='upper left')\n",
        "  plt.show()\n",
        "\n",
        "  # Plot training & validation loss values\n",
        "  plt.figure(figsize=(5,5))\n",
        "  plt.plot(epoch_range, history.history['loss'])\n",
        "  plt.plot(epoch_range, history.history['val_loss'])\n",
        "  plt.title('Model loss')\n",
        "  plt.ylabel('Loss')\n",
        "  plt.xlabel('Epoch')\n",
        "  plt.legend(['Train', 'Val'], loc='upper left')\n",
        "  plt.show()"
      ]
    },
    {
      "cell_type": "code",
      "execution_count": 26,
      "metadata": {
        "colab": {
          "base_uri": "https://localhost:8080/",
          "height": 957
        },
        "id": "PG8WfToZGNQc",
        "outputId": "4aab3862-f022-4191-f68c-7e84ff1e4c72"
      },
      "outputs": [
        {
          "output_type": "display_data",
          "data": {
            "text/plain": [
              "<Figure size 500x500 with 1 Axes>"
            ],
            "image/png": "[encoded data removed]"
          },
          "metadata": {}
        },
        {
          "output_type": "display_data",
          "data": {
            "text/plain": [
              "<Figure size 500x500 with 1 Axes>"
            ],
            "image/png": "[encoded data removed]"
          },
          "metadata": {}
        }
      ],
      "source": [
        "plot_learningCurve(history,50)"
      ]
    },
    {
      "cell_type": "markdown",
      "metadata": {
        "id": "X5O_zYN9GclI"
      },
      "source": [
        "# **EARLY STOPPING**"
      ]
    },
    {
      "cell_type": "code",
      "execution_count": 27,
      "metadata": {
        "id": "yP6WtzQyGb0U"
      },
      "outputs": [],
      "source": [
        "model3=Sequential()\n",
        "initializer=tf.keras.initializers.GlorotUniform() #Xavier intialiser for weights\n",
        "model3.add(Conv1D(64,2,activation='relu',kernel_initializer=initializer,input_shape=(100,1),use_bias=False))  #The filter (64)--the number of output filters in convention layer in CNN,kernal size=height*width\n",
        "model3.add(BatchNormalization())\n",
        "model3.add(Dense(32,activation=\"relu\"))\n",
        "model3.add(BatchNormalization())\n",
        "model3.add(MaxPooling1D())\n",
        "model3.add(Flatten())\n",
        "model3.add(Dense(2,activation=\"softmax\"))\n",
        "monitor_val_acc = EarlyStopping(monitor = 'val_loss', patience = 5)"
      ]
    },
    {
      "cell_type": "code",
      "execution_count": 28,
      "metadata": {
        "id": "UNy6m60mJcyQ"
      },
      "outputs": [],
      "source": [
        "model3.compile(optimizer='adam',loss='sparse_categorical_crossentropy',metrics=['accuracy'])"
      ]
    },
    {
      "cell_type": "code",
      "execution_count": 30,
      "metadata": {
        "id": "D48tlUCjGzM_",
        "outputId": "89025f75-c1d9-4569-cc19-d92dfa852af1",
        "colab": {
          "base_uri": "https://localhost:8080/"
        }
      },
      "outputs": [
        {
          "output_type": "execute_result",
          "data": {
            "text/plain": [
              "<keras.src.callbacks.History at 0x78ddfd4711e0>"
            ]
          },
          "metadata": {},
          "execution_count": 30
        }
      ],
      "source": [
        "model3.fit(x_train,y_train,epochs=50,validation_data=(x_test,y_test),verbose=0)"
      ]
    },
    {
      "cell_type": "code",
      "execution_count": 31,
      "metadata": {
        "colab": {
          "base_uri": "https://localhost:8080/"
        },
        "id": "dqC_wy_vG36E",
        "outputId": "4e745e25-16a9-427c-c991-db8bf721ebfc"
      },
      "outputs": [
        {
          "output_type": "stream",
          "name": "stdout",
          "text": [
            "79/79 [==============================] - 1s 6ms/step - loss: 0.3043 - accuracy: 0.8980\n",
            "Accuracy = 89.80000019073486\n",
            "Loss = 30.42900562286377\n"
          ]
        }
      ],
      "source": [
        "loss, accuracy =model3.evaluate(x_test, y_test)\n",
        "print('Accuracy =', (accuracy*100))\n",
        "print(\"Loss =\",(loss*100))"
      ]
    },
    {
      "cell_type": "code",
      "execution_count": 32,
      "metadata": {
        "colab": {
          "base_uri": "https://localhost:8080/"
        },
        "id": "JgmLdav7Jlia",
        "outputId": "baebd018-40ae-4efb-8705-ed62a02e5bb1"
      },
      "outputs": [
        {
          "output_type": "stream",
          "name": "stdout",
          "text": [
            "Epoch 1/50\n",
            "250/250 [==============================] - 2s 9ms/step - loss: 0.1304 - accuracy: 0.9531\n",
            "Epoch 2/50\n",
            "250/250 [==============================] - 2s 9ms/step - loss: 0.1326 - accuracy: 0.9529\n",
            "Epoch 3/50\n",
            "250/250 [==============================] - 3s 11ms/step - loss: 0.1290 - accuracy: 0.9547\n",
            "Epoch 4/50\n",
            "250/250 [==============================] - 3s 12ms/step - loss: 0.1298 - accuracy: 0.9509\n",
            "Epoch 5/50\n",
            "250/250 [==============================] - 2s 10ms/step - loss: 0.1269 - accuracy: 0.9501\n",
            "Epoch 6/50\n",
            "250/250 [==============================] - 2s 9ms/step - loss: 0.1263 - accuracy: 0.9552\n",
            "Epoch 7/50\n",
            "250/250 [==============================] - 2s 9ms/step - loss: 0.1230 - accuracy: 0.9572\n",
            "Epoch 8/50\n",
            "250/250 [==============================] - 3s 11ms/step - loss: 0.1245 - accuracy: 0.9516\n",
            "Epoch 9/50\n",
            "250/250 [==============================] - 3s 13ms/step - loss: 0.1236 - accuracy: 0.9536\n",
            "Epoch 10/50\n",
            "250/250 [==============================] - 2s 10ms/step - loss: 0.1220 - accuracy: 0.9563\n",
            "Epoch 11/50\n",
            "250/250 [==============================] - 2s 10ms/step - loss: 0.1199 - accuracy: 0.9556\n",
            "Epoch 12/50\n",
            "250/250 [==============================] - 2s 10ms/step - loss: 0.1223 - accuracy: 0.9567\n",
            "Epoch 13/50\n",
            "250/250 [==============================] - 3s 12ms/step - loss: 0.1179 - accuracy: 0.9573\n",
            "Epoch 14/50\n",
            "250/250 [==============================] - 3s 12ms/step - loss: 0.1168 - accuracy: 0.9569\n",
            "Epoch 15/50\n",
            "250/250 [==============================] - 2s 10ms/step - loss: 0.1162 - accuracy: 0.9571\n",
            "Epoch 16/50\n",
            "250/250 [==============================] - 2s 10ms/step - loss: 0.1178 - accuracy: 0.9567\n",
            "Epoch 17/50\n",
            "250/250 [==============================] - 3s 10ms/step - loss: 0.1136 - accuracy: 0.9576\n",
            "Epoch 18/50\n",
            "250/250 [==============================] - 3s 13ms/step - loss: 0.1161 - accuracy: 0.9565\n",
            "Epoch 19/50\n",
            "250/250 [==============================] - 3s 11ms/step - loss: 0.1150 - accuracy: 0.9597\n",
            "Epoch 20/50\n",
            "250/250 [==============================] - 2s 10ms/step - loss: 0.1115 - accuracy: 0.9576\n",
            "Epoch 21/50\n",
            "250/250 [==============================] - 2s 10ms/step - loss: 0.1199 - accuracy: 0.9547\n",
            "Epoch 22/50\n",
            "250/250 [==============================] - 2s 10ms/step - loss: 0.1083 - accuracy: 0.9603\n",
            "Epoch 23/50\n",
            "250/250 [==============================] - 3s 14ms/step - loss: 0.1133 - accuracy: 0.9556\n",
            "Epoch 24/50\n",
            "250/250 [==============================] - 2s 10ms/step - loss: 0.1175 - accuracy: 0.9580\n",
            "Epoch 25/50\n",
            "250/250 [==============================] - 2s 10ms/step - loss: 0.1083 - accuracy: 0.9575\n",
            "Epoch 26/50\n",
            "250/250 [==============================] - 2s 10ms/step - loss: 0.1072 - accuracy: 0.9608\n",
            "Epoch 27/50\n",
            "250/250 [==============================] - 2s 10ms/step - loss: 0.1110 - accuracy: 0.9580\n",
            "Epoch 28/50\n",
            "250/250 [==============================] - 3s 14ms/step - loss: 0.1087 - accuracy: 0.9591\n",
            "Epoch 29/50\n",
            "250/250 [==============================] - 2s 10ms/step - loss: 0.1023 - accuracy: 0.9619\n",
            "Epoch 30/50\n",
            "250/250 [==============================] - 2s 10ms/step - loss: 0.1068 - accuracy: 0.9596\n",
            "Epoch 31/50\n",
            "250/250 [==============================] - 2s 10ms/step - loss: 0.1102 - accuracy: 0.9572\n",
            "Epoch 32/50\n",
            "250/250 [==============================] - 3s 10ms/step - loss: 0.1101 - accuracy: 0.9576\n",
            "Epoch 33/50\n",
            "250/250 [==============================] - 3s 13ms/step - loss: 0.1055 - accuracy: 0.9601\n",
            "Epoch 34/50\n",
            "250/250 [==============================] - 2s 10ms/step - loss: 0.1071 - accuracy: 0.9599\n",
            "Epoch 35/50\n",
            "250/250 [==============================] - 2s 10ms/step - loss: 0.1025 - accuracy: 0.9620\n",
            "Epoch 36/50\n",
            "250/250 [==============================] - 2s 10ms/step - loss: 0.1003 - accuracy: 0.9645\n",
            "Epoch 37/50\n",
            "250/250 [==============================] - 3s 11ms/step - loss: 0.1040 - accuracy: 0.9624\n",
            "Epoch 38/50\n",
            "250/250 [==============================] - 3s 12ms/step - loss: 0.0988 - accuracy: 0.9639\n",
            "Epoch 39/50\n",
            "250/250 [==============================] - 2s 10ms/step - loss: 0.1022 - accuracy: 0.9608\n",
            "Epoch 40/50\n",
            "250/250 [==============================] - 2s 10ms/step - loss: 0.0992 - accuracy: 0.9651\n",
            "Epoch 41/50\n",
            "250/250 [==============================] - 2s 9ms/step - loss: 0.1001 - accuracy: 0.9639\n",
            "Epoch 42/50\n",
            "250/250 [==============================] - 3s 12ms/step - loss: 0.0996 - accuracy: 0.9636\n",
            "Epoch 43/50\n",
            "250/250 [==============================] - 3s 11ms/step - loss: 0.1011 - accuracy: 0.9639\n",
            "Epoch 44/50\n",
            "250/250 [==============================] - 2s 10ms/step - loss: 0.0990 - accuracy: 0.9608\n",
            "Epoch 45/50\n",
            "250/250 [==============================] - 3s 12ms/step - loss: 0.1007 - accuracy: 0.9615\n",
            "Epoch 46/50\n",
            "250/250 [==============================] - 2s 9ms/step - loss: 0.1025 - accuracy: 0.9597\n",
            "Epoch 47/50\n",
            "250/250 [==============================] - 4s 15ms/step - loss: 0.0955 - accuracy: 0.9672\n",
            "Epoch 48/50\n",
            "250/250 [==============================] - 3s 13ms/step - loss: 0.0917 - accuracy: 0.9669\n",
            "Epoch 49/50\n",
            "250/250 [==============================] - 2s 9ms/step - loss: 0.0950 - accuracy: 0.9648\n",
            "Epoch 50/50\n",
            "250/250 [==============================] - 2s 9ms/step - loss: 0.0948 - accuracy: 0.9648\n"
          ]
        },
        {
          "output_type": "execute_result",
          "data": {
            "text/plain": [
              "<keras.src.callbacks.History at 0x78ddef671150>"
            ]
          },
          "metadata": {},
          "execution_count": 32
        }
      ],
      "source": [
        "model3.fit(x_train,y_train,epochs=50,batch_size=30)"
      ]
    },
    {
      "cell_type": "code",
      "execution_count": 33,
      "metadata": {
        "colab": {
          "base_uri": "https://localhost:8080/"
        },
        "id": "gZm0O4eYG7ZZ",
        "outputId": "064d639d-84e4-4ca1-a54a-a35b658fd4ef"
      },
      "outputs": [
        {
          "output_type": "stream",
          "name": "stdout",
          "text": [
            "Model: \"sequential_3\"\n",
            "_________________________________________________________________\n",
            " Layer (type)                Output Shape              Param #   \n",
            "=================================================================\n",
            " conv1d_3 (Conv1D)           (None, 99, 64)            128       \n",
            "                                                                 \n",
            " batch_normalization_6 (Bat  (None, 99, 64)            256       \n",
            " chNormalization)                                                \n",
            "                                                                 \n",
            " dense_6 (Dense)             (None, 99, 32)            2080      \n",
            "                                                                 \n",
            " batch_normalization_7 (Bat  (None, 99, 32)            128       \n",
            " chNormalization)                                                \n",
            "                                                                 \n",
            " max_pooling1d_3 (MaxPoolin  (None, 49, 32)            0         \n",
            " g1D)                                                            \n",
            "                                                                 \n",
            " flatten_3 (Flatten)         (None, 1568)              0         \n",
            "                                                                 \n",
            " dense_7 (Dense)             (None, 2)                 3138      \n",
            "                                                                 \n",
            "=================================================================\n",
            "Total params: 5730 (22.38 KB)\n",
            "Trainable params: 5538 (21.63 KB)\n",
            "Non-trainable params: 192 (768.00 Byte)\n",
            "_________________________________________________________________\n"
          ]
        }
      ],
      "source": [
        "model3.summary()"
      ]
    },
    {
      "cell_type": "code",
      "execution_count": 34,
      "metadata": {
        "colab": {
          "base_uri": "https://localhost:8080/",
          "height": 227
        },
        "id": "zUnyp6M7KqLd",
        "outputId": "bd8fcbde-dd79-43e4-8d93-86be2dbccc68"
      },
      "outputs": [
        {
          "output_type": "execute_result",
          "data": {
            "text/plain": [
              "                         Parameters used  Regularisation_Methods  Epochs  \\\n",
              "0                     Xavier Initialiser  Without Regularisation      50   \n",
              "1                    Batch Normalisation                 Dropout      50   \n",
              "2  Conv1D with kernal size 2 & filter 64              L1 and L2       50   \n",
              "3            Total number of NEURONS :34          Early Stopping      50   \n",
              "\n",
              "  Optimizer used    Loss  Accuracy  \n",
              "0           adam  38.380    86.790  \n",
              "1           adam  31.522    88.040  \n",
              "2           adam  38.067    87.319  \n",
              "3           adam  38.200    86.910  "
            ],
            "text/html": [
              "\n",
              "  <div id=\"df-f0adfbaf-1c85-403b-89bb-b00c9d2b0c86\" class=\"colab-df-container\">\n",
              "    <div>\n",
              "<style scoped>\n",
              "    .dataframe tbody tr th:only-of-type {\n",
              "        vertical-align: middle;\n",
              "    }\n",
              "\n",
              "    .dataframe tbody tr th {\n",
              "        vertical-align: top;\n",
              "    }\n",
              "\n",
              "    .dataframe thead th {\n",
              "        text-align: right;\n",
              "    }\n",
              "</style>\n",
              "<table border=\"1\" class=\"dataframe\">\n",
              "  <thead>\n",
              "    <tr style=\"text-align: right;\">\n",
              "      <th></th>\n",
              "      <th>Parameters used</th>\n",
              "      <th>Regularisation_Methods</th>\n",
              "      <th>Epochs</th>\n",
              "      <th>Optimizer used</th>\n",
              "      <th>Loss</th>\n",
              "      <th>Accuracy</th>\n",
              "    </tr>\n",
              "  </thead>\n",
              "  <tbody>\n",
              "    <tr>\n",
              "      <th>0</th>\n",
              "      <td>Xavier Initialiser</td>\n",
              "      <td>Without Regularisation</td>\n",
              "      <td>50</td>\n",
              "      <td>adam</td>\n",
              "      <td>38.380</td>\n",
              "      <td>86.790</td>\n",
              "    </tr>\n",
              "    <tr>\n",
              "      <th>1</th>\n",
              "      <td>Batch Normalisation</td>\n",
              "      <td>Dropout</td>\n",
              "      <td>50</td>\n",
              "      <td>adam</td>\n",
              "      <td>31.522</td>\n",
              "      <td>88.040</td>\n",
              "    </tr>\n",
              "    <tr>\n",
              "      <th>2</th>\n",
              "      <td>Conv1D with kernal size 2 &amp; filter 64</td>\n",
              "      <td>L1 and L2</td>\n",
              "      <td>50</td>\n",
              "      <td>adam</td>\n",
              "      <td>38.067</td>\n",
              "      <td>87.319</td>\n",
              "    </tr>\n",
              "    <tr>\n",
              "      <th>3</th>\n",
              "      <td>Total number of NEURONS :34</td>\n",
              "      <td>Early Stopping</td>\n",
              "      <td>50</td>\n",
              "      <td>adam</td>\n",
              "      <td>38.200</td>\n",
              "      <td>86.910</td>\n",
              "    </tr>\n",
              "  </tbody>\n",
              "</table>\n",
              "</div>\n",
              "    <div class=\"colab-df-buttons\">\n",
              "\n",
              "  <div class=\"colab-df-container\">\n",
              "    <button class=\"colab-df-convert\" onclick=\"convertToInteractive('df-f0adfbaf-1c85-403b-89bb-b00c9d2b0c86')\"\n",
              "            title=\"Convert this dataframe to an interactive table.\"\n",
              "            style=\"display:none;\">\n",
              "\n",
              "  <svg xmlns=\"http://www.w3.org/2000/svg\" height=\"24px\" viewBox=\"0 -960 960 960\">\n",
              "    <path d=\"M120-120v-720h720v720H120Zm60-500h600v-160H180v160Zm220 220h160v-160H400v160Zm0 220h160v-160H400v160ZM180-400h160v-160H180v160Zm440 0h160v-160H620v160ZM180-180h160v-160H180v160Zm440 0h160v-160H620v160Z\"/>\n",
              "  </svg>\n",
              "    </button>\n",
              "\n",
              "  <style>\n",
              "    .colab-df-container {\n",
              "      display:flex;\n",
              "      gap: 12px;\n",
              "    }\n",
              "\n",
              "    .colab-df-convert {\n",
              "      background-color: #E8F0FE;\n",
              "      border: none;\n",
              "      border-radius: 50%;\n",
              "      cursor: pointer;\n",
              "      display: none;\n",
              "      fill: #1967D2;\n",
              "      height: 32px;\n",
              "      padding: 0 0 0 0;\n",
              "      width: 32px;\n",
              "    }\n",
              "\n",
              "    .colab-df-convert:hover {\n",
              "      background-color: #E2EBFA;\n",
              "      box-shadow: 0px 1px 2px rgba(60, 64, 67, 0.3), 0px 1px 3px 1px rgba(60, 64, 67, 0.15);\n",
              "      fill: #174EA6;\n",
              "    }\n",
              "\n",
              "    .colab-df-buttons div {\n",
              "      margin-bottom: 4px;\n",
              "    }\n",
              "\n",
              "    [theme=dark] .colab-df-convert {\n",
              "      background-color: #3B4455;\n",
              "      fill: #D2E3FC;\n",
              "    }\n",
              "\n",
              "    [theme=dark] .colab-df-convert:hover {\n",
              "      background-color: #434B5C;\n",
              "      box-shadow: 0px 1px 3px 1px rgba(0, 0, 0, 0.15);\n",
              "      filter: drop-shadow(0px 1px 2px rgba(0, 0, 0, 0.3));\n",
              "      fill: #FFFFFF;\n",
              "    }\n",
              "  </style>\n",
              "\n",
              "    <script>\n",
              "      const buttonEl =\n",
              "        document.querySelector('#df-f0adfbaf-1c85-403b-89bb-b00c9d2b0c86 button.colab-df-convert');\n",
              "      buttonEl.style.display =\n",
              "        google.colab.kernel.accessAllowed ? 'block' : 'none';\n",
              "\n",
              "      async function convertToInteractive(key) {\n",
              "        const element = document.querySelector('#df-f0adfbaf-1c85-403b-89bb-b00c9d2b0c86');\n",
              "        const dataTable =\n",
              "          await google.colab.kernel.invokeFunction('convertToInteractive',\n",
              "                                                    [key], {});\n",
              "        if (!dataTable) return;\n",
              "\n",
              "        const docLinkHtml = 'Like what you see? Visit the ' +\n",
              "          '<a target=\"_blank\" href=https://colab.research.google.com/notebooks/data_table.ipynb>data table notebook</a>'\n",
              "          + ' to learn more about interactive tables.';\n",
              "        element.innerHTML = '';\n",
              "        dataTable['output_type'] = 'display_data';\n",
              "        await google.colab.output.renderOutput(dataTable, element);\n",
              "        const docLink = document.createElement('div');\n",
              "        docLink.innerHTML = docLinkHtml;\n",
              "        element.appendChild(docLink);\n",
              "      }\n",
              "    </script>\n",
              "  </div>\n",
              "\n",
              "\n",
              "<div id=\"df-986846f6-3108-440a-abdb-41286b947539\">\n",
              "  <button class=\"colab-df-quickchart\" onclick=\"quickchart('df-986846f6-3108-440a-abdb-41286b947539')\"\n",
              "            title=\"Suggest charts\"\n",
              "            style=\"display:none;\">\n",
              "\n",
              "<svg xmlns=\"http://www.w3.org/2000/svg\" height=\"24px\"viewBox=\"0 0 24 24\"\n",
              "     width=\"24px\">\n",
              "    <g>\n",
              "        <path d=\"M19 3H5c-1.1 0-2 .9-2 2v14c0 1.1.9 2 2 2h14c1.1 0 2-.9 2-2V5c0-1.1-.9-2-2-2zM9 17H7v-7h2v7zm4 0h-2V7h2v10zm4 0h-2v-4h2v4z\"/>\n",
              "    </g>\n",
              "</svg>\n",
              "  </button>\n",
              "\n",
              "<style>\n",
              "  .colab-df-quickchart {\n",
              "      --bg-color: #E8F0FE;\n",
              "      --fill-color: #1967D2;\n",
              "      --hover-bg-color: #E2EBFA;\n",
              "      --hover-fill-color: #174EA6;\n",
              "      --disabled-fill-color: #AAA;\n",
              "      --disabled-bg-color: #DDD;\n",
              "  }\n",
              "\n",
              "  [theme=dark] .colab-df-quickchart {\n",
              "      --bg-color: #3B4455;\n",
              "      --fill-color: #D2E3FC;\n",
              "      --hover-bg-color: #434B5C;\n",
              "      --hover-fill-color: #FFFFFF;\n",
              "      --disabled-bg-color: #3B4455;\n",
              "      --disabled-fill-color: #666;\n",
              "  }\n",
              "\n",
              "  .colab-df-quickchart {\n",
              "    background-color: var(--bg-color);\n",
              "    border: none;\n",
              "    border-radius: 50%;\n",
              "    cursor: pointer;\n",
              "    display: none;\n",
              "    fill: var(--fill-color);\n",
              "    height: 32px;\n",
              "    padding: 0;\n",
              "    width: 32px;\n",
              "  }\n",
              "\n",
              "  .colab-df-quickchart:hover {\n",
              "    background-color: var(--hover-bg-color);\n",
              "    box-shadow: 0 1px 2px rgba(60, 64, 67, 0.3), 0 1px 3px 1px rgba(60, 64, 67, 0.15);\n",
              "    fill: var(--button-hover-fill-color);\n",
              "  }\n",
              "\n",
              "  .colab-df-quickchart-complete:disabled,\n",
              "  .colab-df-quickchart-complete:disabled:hover {\n",
              "    background-color: var(--disabled-bg-color);\n",
              "    fill: var(--disabled-fill-color);\n",
              "    box-shadow: none;\n",
              "  }\n",
              "\n",
              "  .colab-df-spinner {\n",
              "    border: 2px solid var(--fill-color);\n",
              "    border-color: transparent;\n",
              "    border-bottom-color: var(--fill-color);\n",
              "    animation:\n",
              "      spin 1s steps(1) infinite;\n",
              "  }\n",
              "\n",
              "  @keyframes spin {\n",
              "    0% {\n",
              "      border-color: transparent;\n",
              "      border-bottom-color: var(--fill-color);\n",
              "      border-left-color: var(--fill-color);\n",
              "    }\n",
              "    20% {\n",
              "      border-color: transparent;\n",
              "      border-left-color: var(--fill-color);\n",
              "      border-top-color: var(--fill-color);\n",
              "    }\n",
              "    30% {\n",
              "      border-color: transparent;\n",
              "      border-left-color: var(--fill-color);\n",
              "      border-top-color: var(--fill-color);\n",
              "      border-right-color: var(--fill-color);\n",
              "    }\n",
              "    40% {\n",
              "      border-color: transparent;\n",
              "      border-right-color: var(--fill-color);\n",
              "      border-top-color: var(--fill-color);\n",
              "    }\n",
              "    60% {\n",
              "      border-color: transparent;\n",
              "      border-right-color: var(--fill-color);\n",
              "    }\n",
              "    80% {\n",
              "      border-color: transparent;\n",
              "      border-right-color: var(--fill-color);\n",
              "      border-bottom-color: var(--fill-color);\n",
              "    }\n",
              "    90% {\n",
              "      border-color: transparent;\n",
              "      border-bottom-color: var(--fill-color);\n",
              "    }\n",
              "  }\n",
              "</style>\n",
              "\n",
              "  <script>\n",
              "    async function quickchart(key) {\n",
              "      const quickchartButtonEl =\n",
              "        document.querySelector('#' + key + ' button');\n",
              "      quickchartButtonEl.disabled = true;  // To prevent multiple clicks.\n",
              "      quickchartButtonEl.classList.add('colab-df-spinner');\n",
              "      try {\n",
              "        const charts = await google.colab.kernel.invokeFunction(\n",
              "            'suggestCharts', [key], {});\n",
              "      } catch (error) {\n",
              "        console.error('Error during call to suggestCharts:', error);\n",
              "      }\n",
              "      quickchartButtonEl.classList.remove('colab-df-spinner');\n",
              "      quickchartButtonEl.classList.add('colab-df-quickchart-complete');\n",
              "    }\n",
              "    (() => {\n",
              "      let quickchartButtonEl =\n",
              "        document.querySelector('#df-986846f6-3108-440a-abdb-41286b947539 button');\n",
              "      quickchartButtonEl.style.display =\n",
              "        google.colab.kernel.accessAllowed ? 'block' : 'none';\n",
              "    })();\n",
              "  </script>\n",
              "</div>\n",
              "\n",
              "  <div id=\"id_9e525376-c291-4dab-bf33-a3178cc72315\">\n",
              "    <style>\n",
              "      .colab-df-generate {\n",
              "        background-color: #E8F0FE;\n",
              "        border: none;\n",
              "        border-radius: 50%;\n",
              "        cursor: pointer;\n",
              "        display: none;\n",
              "        fill: #1967D2;\n",
              "        height: 32px;\n",
              "        padding: 0 0 0 0;\n",
              "        width: 32px;\n",
              "      }\n",
              "\n",
              "      .colab-df-generate:hover {\n",
              "        background-color: #E2EBFA;\n",
              "        box-shadow: 0px 1px 2px rgba(60, 64, 67, 0.3), 0px 1px 3px 1px rgba(60, 64, 67, 0.15);\n",
              "        fill: #174EA6;\n",
              "      }\n",
              "\n",
              "      [theme=dark] .colab-df-generate {\n",
              "        background-color: #3B4455;\n",
              "        fill: #D2E3FC;\n",
              "      }\n",
              "\n",
              "      [theme=dark] .colab-df-generate:hover {\n",
              "        background-color: #434B5C;\n",
              "        box-shadow: 0px 1px 3px 1px rgba(0, 0, 0, 0.15);\n",
              "        filter: drop-shadow(0px 1px 2px rgba(0, 0, 0, 0.3));\n",
              "        fill: #FFFFFF;\n",
              "      }\n",
              "    </style>\n",
              "    <button class=\"colab-df-generate\" onclick=\"generateWithVariable('df')\"\n",
              "            title=\"Generate code using this dataframe.\"\n",
              "            style=\"display:none;\">\n",
              "\n",
              "  <svg xmlns=\"http://www.w3.org/2000/svg\" height=\"24px\"viewBox=\"0 0 24 24\"\n",
              "       width=\"24px\">\n",
              "    <path d=\"M7,19H8.4L18.45,9,17,7.55,7,17.6ZM5,21V16.75L18.45,3.32a2,2,0,0,1,2.83,0l1.4,1.43a1.91,1.91,0,0,1,.58,1.4,1.91,1.91,0,0,1-.58,1.4L9.25,21ZM18.45,9,17,7.55Zm-12,3A5.31,5.31,0,0,0,4.9,8.1,5.31,5.31,0,0,0,1,6.5,5.31,5.31,0,0,0,4.9,4.9,5.31,5.31,0,0,0,6.5,1,5.31,5.31,0,0,0,8.1,4.9,5.31,5.31,0,0,0,12,6.5,5.46,5.46,0,0,0,6.5,12Z\"/>\n",
              "  </svg>\n",
              "    </button>\n",
              "    <script>\n",
              "      (() => {\n",
              "      const buttonEl =\n",
              "        document.querySelector('#id_9e525376-c291-4dab-bf33-a3178cc72315 button.colab-df-generate');\n",
              "      buttonEl.style.display =\n",
              "        google.colab.kernel.accessAllowed ? 'block' : 'none';\n",
              "\n",
              "      buttonEl.onclick = () => {\n",
              "        google.colab.notebook.generateWithVariable('df');\n",
              "      }\n",
              "      })();\n",
              "    </script>\n",
              "  </div>\n",
              "\n",
              "    </div>\n",
              "  </div>\n"
            ],
            "application/vnd.google.colaboratory.intrinsic+json": {
              "type": "dataframe",
              "variable_name": "df",
              "summary": "{\n  \"name\": \"df\",\n  \"rows\": 4,\n  \"fields\": [\n    {\n      \"column\": \"Parameters used\",\n      \"properties\": {\n        \"dtype\": \"string\",\n        \"num_unique_values\": 4,\n        \"samples\": [\n          \"Batch Normalisation\",\n          \"Total number of NEURONS :34\",\n          \"Xavier Initialiser\"\n        ],\n        \"semantic_type\": \"\",\n        \"description\": \"\"\n      }\n    },\n    {\n      \"column\": \"Regularisation_Methods\",\n      \"properties\": {\n        \"dtype\": \"string\",\n        \"num_unique_values\": 4,\n        \"samples\": [\n          \"Dropout\",\n          \"Early Stopping\",\n          \"Without Regularisation\"\n        ],\n        \"semantic_type\": \"\",\n        \"description\": \"\"\n      }\n    },\n    {\n      \"column\": \"Epochs\",\n      \"properties\": {\n        \"dtype\": \"number\",\n        \"std\": 0,\n        \"min\": 50,\n        \"max\": 50,\n        \"num_unique_values\": 1,\n        \"samples\": [\n          50\n        ],\n        \"semantic_type\": \"\",\n        \"description\": \"\"\n      }\n    },\n    {\n      \"column\": \"Optimizer used\",\n      \"properties\": {\n        \"dtype\": \"category\",\n        \"num_unique_values\": 1,\n        \"samples\": [\n          \"adam\"\n        ],\n        \"semantic_type\": \"\",\n        \"description\": \"\"\n      }\n    },\n    {\n      \"column\": \"Loss\",\n      \"properties\": {\n        \"dtype\": \"number\",\n        \"std\": 3.3492901113519578,\n        \"min\": 31.522,\n        \"max\": 38.38,\n        \"num_unique_values\": 4,\n        \"samples\": [\n          31.522\n        ],\n        \"semantic_type\": \"\",\n        \"description\": \"\"\n      }\n    },\n    {\n      \"column\": \"Accuracy\",\n      \"properties\": {\n        \"dtype\": \"number\",\n        \"std\": 0.5642667070337118,\n        \"min\": 86.79,\n        \"max\": 88.04,\n        \"num_unique_values\": 4,\n        \"samples\": [\n          88.04\n        ],\n        \"semantic_type\": \"\",\n        \"description\": \"\"\n      }\n    }\n  ]\n}"
            }
          },
          "metadata": {},
          "execution_count": 34
        }
      ],
      "source": [
        "data={\"Parameters used\":[\"Xavier Initialiser\",\"Batch Normalisation\",\"Conv1D with kernal size 2 & filter 64\",\"Total number of NEURONS :34\"],\"Regularisation_Methods\":[\"Without Regularisation\",\"Dropout\",\"L1 and L2 \",\"Early Stopping\"],\"Epochs\":[50,50,50,50],\"Optimizer used\":[\"adam\",\"adam\",\"adam\",\"adam\"],\"Loss\":[38.38,31.522,38.067,38.20],\"Accuracy\":[86.79,88.040,87.319,86.91]}\n",
        "df=pd.DataFrame(data)\n",
        "df"
      ]
    },
    {
      "cell_type": "markdown",
      "metadata": {
        "id": "4YOEB0jUZ8aq"
      },
      "source": [
        "# Therefore Dropuout Regularisation method gives less loss and high accuracy than other regularisation methods.\n",
        "\n",
        "Using this model we can hypertune the parameters"
      ]
    },
    {
      "cell_type": "markdown",
      "metadata": {
        "id": "nKBLCUBcZ8au"
      },
      "source": [
        "# Hypertunning the model with Dropout regularisation to improve the accuracy and reduce the loss"
      ]
    },
    {
      "cell_type": "code",
      "source": [
        "!pip install tensorflow-keras-sklearn"
      ],
      "metadata": {
        "id": "NaDZrPf7egpm",
        "outputId": "15b4e8cc-31db-4ddd-8207-75f852c413a5",
        "colab": {
          "base_uri": "https://localhost:8080/"
        }
      },
      "execution_count": 39,
      "outputs": [
        {
          "output_type": "stream",
          "name": "stdout",
          "text": [
            "\u001b[31mERROR: Could not find a version that satisfies the requirement tensorflow-keras-sklearn (from versions: none)\u001b[0m\u001b[31m\n",
            "\u001b[0m\u001b[31mERROR: No matching distribution found for tensorflow-keras-sklearn\u001b[0m\u001b[31m\n",
            "\u001b[0m"
          ]
        }
      ]
    },
    {
      "cell_type": "code",
      "execution_count": 36,
      "metadata": {
        "id": "DeSwsWuLVIHm",
        "outputId": "60cb8652-abff-40b8-ca70-1d89b3663a95",
        "colab": {
          "base_uri": "https://localhost:8080/",
          "height": 436
        }
      },
      "outputs": [
        {
          "output_type": "error",
          "ename": "ModuleNotFoundError",
          "evalue": "No module named 'tensorflow.keras.wrappers'",
          "traceback": [
            "\u001b[0;31m---------------------------------------------------------------------------\u001b[0m",
            "\u001b[0;31mModuleNotFoundError\u001b[0m                       Traceback (most recent call last)",
            "\u001b[0;32m<ipython-input-36-939c30f066da>\u001b[0m in \u001b[0;36m<cell line: 16>\u001b[0;34m()\u001b[0m\n\u001b[1;32m     14\u001b[0m   \u001b[0mmodel1\u001b[0m\u001b[0;34m.\u001b[0m\u001b[0mcompile\u001b[0m\u001b[0;34m(\u001b[0m\u001b[0moptimizer\u001b[0m\u001b[0;34m=\u001b[0m\u001b[0moptimizer\u001b[0m\u001b[0;34m,\u001b[0m\u001b[0mloss\u001b[0m\u001b[0;34m=\u001b[0m\u001b[0;34m'sparse_categorical_crossentropy'\u001b[0m\u001b[0;34m,\u001b[0m\u001b[0mmetrics\u001b[0m\u001b[0;34m=\u001b[0m\u001b[0;34m[\u001b[0m\u001b[0;34m'accuracy'\u001b[0m\u001b[0;34m]\u001b[0m\u001b[0;34m)\u001b[0m\u001b[0;34m\u001b[0m\u001b[0;34m\u001b[0m\u001b[0m\n\u001b[1;32m     15\u001b[0m   \u001b[0;32mreturn\u001b[0m \u001b[0mmodel1\u001b[0m\u001b[0;34m\u001b[0m\u001b[0;34m\u001b[0m\u001b[0m\n\u001b[0;32m---> 16\u001b[0;31m \u001b[0;32mfrom\u001b[0m \u001b[0mtensorflow\u001b[0m\u001b[0;34m.\u001b[0m\u001b[0mkeras\u001b[0m\u001b[0;34m.\u001b[0m\u001b[0mwrappers\u001b[0m\u001b[0;34m.\u001b[0m\u001b[0mscikit_learn\u001b[0m \u001b[0;32mimport\u001b[0m \u001b[0mKerasClassifier\u001b[0m\u001b[0;34m\u001b[0m\u001b[0;34m\u001b[0m\u001b[0m\n\u001b[0m\u001b[1;32m     17\u001b[0m \u001b[0mmodel\u001b[0m\u001b[0;34m=\u001b[0m\u001b[0mKerasClassifier\u001b[0m\u001b[0;34m(\u001b[0m\u001b[0mbuild_fn\u001b[0m\u001b[0;34m=\u001b[0m\u001b[0mbuild_classifer\u001b[0m\u001b[0;34m,\u001b[0m\u001b[0mverbose\u001b[0m\u001b[0;34m=\u001b[0m\u001b[0;36m0\u001b[0m\u001b[0;34m,\u001b[0m\u001b[0mepochs\u001b[0m\u001b[0;34m=\u001b[0m\u001b[0;36m50\u001b[0m\u001b[0;34m)\u001b[0m\u001b[0;34m\u001b[0m\u001b[0;34m\u001b[0m\u001b[0m\n\u001b[1;32m     18\u001b[0m \u001b[0mkernel_initializer\u001b[0m\u001b[0;34m=\u001b[0m\u001b[0;34m[\u001b[0m\u001b[0;34m'uniform'\u001b[0m\u001b[0;34m,\u001b[0m \u001b[0;34m'lecun_uniform'\u001b[0m\u001b[0;34m,\u001b[0m \u001b[0;34m'normal'\u001b[0m\u001b[0;34m,\u001b[0m \u001b[0;34m'zero'\u001b[0m\u001b[0;34m,\u001b[0m \u001b[0;34m'glorot_normal'\u001b[0m\u001b[0;34m,\u001b[0m \u001b[0;34m'glorot_uniform'\u001b[0m\u001b[0;34m,\u001b[0m \u001b[0;34m'he_normal'\u001b[0m\u001b[0;34m,\u001b[0m \u001b[0;34m'he_uniform'\u001b[0m\u001b[0;34m]\u001b[0m\u001b[0;34m\u001b[0m\u001b[0;34m\u001b[0m\u001b[0m\n",
            "\u001b[0;31mModuleNotFoundError\u001b[0m: No module named 'tensorflow.keras.wrappers'",
            "",
            "\u001b[0;31m---------------------------------------------------------------------------\u001b[0;32m\nNOTE: If your import is failing due to a missing package, you can\nmanually install dependencies using either !pip or !apt.\n\nTo view examples of installing some common dependencies, click the\n\"Open Examples\" button below.\n\u001b[0;31m---------------------------------------------------------------------------\u001b[0m\n"
          ],
          "errorDetails": {
            "actions": [
              {
                "action": "open_url",
                "actionText": "Open Examples",
                "url": "/notebooks/snippets/importing_libraries.ipynb"
              }
            ]
          }
        }
      ],
      "source": [
        "from tensorflow.keras import activations\n",
        "def build_classifer(optimizer,kernel_initializer,dropout,loss,learning_rate=0.001):\n",
        "  model1=Sequential()\n",
        "   #Xavier intialiser for weights\n",
        "  model1.add(Conv1D(64,2,activation='relu',kernel_initializer=kernel_initializer,input_shape=(100,1),use_bias=False))  #The filter (64)--the number of output filters in convention layer in CNN,kernal size=height*width\n",
        "  model1.add(Dropout(0.5))\n",
        "  model1.add(BatchNormalization())\n",
        "  model1.add(Dense(32,activation=\"relu\"))\n",
        "  model1.add(Dropout(0.2))\n",
        "  model1.add(BatchNormalization())\n",
        "  model1.add(MaxPooling1D())\n",
        "  model1.add(Flatten())\n",
        "  model1.add(Dense(2,activation=\"softmax\"))\n",
        "  model1.compile(optimizer=optimizer,loss='sparse_categorical_crossentropy',metrics=['accuracy'])\n",
        "  return model1\n",
        "from tensorflow.keras.wrappers.scikit_learn import KerasClassifier\n",
        "model=KerasClassifier(build_fn=build_classifer,verbose=0,epochs=50)\n",
        "kernel_initializer=['uniform', 'lecun_uniform', 'normal', 'zero', 'glorot_normal', 'glorot_uniform', 'he_normal', 'he_uniform']\n",
        "optimizer= [\"Adam\",\"Adagrad\",\"sgd\"]\n",
        "loss= [\"binary_crossentropy\",\"mean_squared_error\",\"mean_absolute_error\"]\n",
        "dropout= [0, 0.40, 0.8]\n",
        "params = dict(optimizer=optimizer,kernel_initializer=kernel_initializer,dropout=dropout,loss=loss)"
      ]
    },
    {
      "source": [
        "# Install the missing module\n",
        "!pip install tensorflow-keras-sklearn\n",
        "\n",
        "# Import the required module\n",
        "from tensorflow_keras_sklearn import KerasClassifier\n",
        "\n",
        "# Define the model building function\n",
        "def build_classifier(optimizer, kernel_initializer, dropout, loss, learning_rate=0.001):\n",
        "    model = Sequential()\n",
        "    # Xavier initializer for weights\n",
        "    model.add(Conv1D(64, 2, activation='relu', kernel_initializer=kernel_initializer, input_shape=(100, 1), use_bias=False))  # The filter (64)--the number of output filters in convention layer in CNN, kernal size=height*width\n",
        "    model.add(Dropout(0.5))\n",
        "    model.add(BatchNormalization())\n",
        "    model.add(Dense(32, activation=\"relu\"))\n",
        "    model.add(Dropout(0.2))\n",
        "    model.add(BatchNormalization())\n",
        "    model.add(MaxPooling1D())\n",
        "    model.add(Flatten())\n",
        "    model.add(Dense(2, activation=\"softmax\"))\n",
        "    model.compile(optimizer=optimizer, loss='sparse_categorical_crossentropy', metrics=['accuracy'])\n",
        "    return model\n",
        "\n",
        "# Create the KerasClassifier object\n",
        "model = KerasClassifier(build_fn=build_classifier, verbose=0, epochs=50)\n",
        "\n",
        "# Define the parameters for grid search\n",
        "kernel_initializer = ['uniform', 'lecun_uniform', 'normal', 'zero', 'glorot_normal', 'glorot_uniform', 'he_normal', 'he_uniform']\n",
        "optimizer = [\"Adam\", \"Adagrad\", \"sgd\"]\n",
        "loss = [\"binary_crossentropy\", \"mean_squared_error\", \"mean_absolute_error\"]\n"
      ],
      "cell_type": "code",
      "metadata": {
        "id": "DOuDyo-2eeDD"
      },
      "execution_count": null,
      "outputs": []
    },
    {
      "source": [
        "# Install the missing module\n",
        "!pip install tensorflow-keras-sklearn\n",
        "\n",
        "# Import the required module\n",
        "from tensorflow_keras_sklearn import KerasClassifier\n",
        "\n",
        "# Define the model building function\n",
        "def build_classifier(optimizer, kernel_initializer, dropout, loss, learning_rate=0.001):\n",
        "    model = Sequential()\n",
        "    # Xavier initializer for weights\n",
        "    model.add(Conv1D(64, 2, activation='relu', kernel_initializer=kernel_initializer, input_shape=(100, 1), use_bias=False))  # The filter (64)--the number of output filters in convention layer in CNN, kernal size=height*width\n",
        "    model.add(Dropout(0.5))\n",
        "    model.add(BatchNormalization())\n",
        "    model.add(Dense(32, activation=\"relu\"))\n",
        "    model.add(Dropout(0.2))\n",
        "    model.add(BatchNormalization())\n",
        "    model.add(MaxPooling1D())\n",
        "    model.add(Flatten())\n",
        "    model.add(Dense(2, activation=\"softmax\"))\n",
        "    model.compile(optimizer=optimizer, loss='sparse_categorical_crossentropy', metrics=['accuracy'])\n",
        "    return model\n",
        "\n",
        "# Create the KerasClassifier object\n",
        "model = KerasClassifier(build_fn=build_classifier, verbose=0, epochs=50)\n",
        "\n",
        "# Define the parameters for grid search\n",
        "kernel_initializer = ['uniform', 'lecun_uniform', 'normal', 'zero', 'glorot_normal', 'glorot_uniform', 'he_normal', 'he_uniform']\n",
        "optimizer = [\"Adam\", \"Adagrad\", \"sgd\"]\n",
        "loss = [\"binary_crossentropy\", \"mean_squared_error\", \"mean_absolute_error\"]\n"
      ],
      "cell_type": "code",
      "metadata": {
        "id": "sRH2j3jpeaIf",
        "outputId": "23324b66-1e4a-4cb8-fc29-c93b68b3dad2",
        "colab": {
          "base_uri": "https://localhost:8080/",
          "height": 439
        }
      },
      "execution_count": 38,
      "outputs": [
        {
          "output_type": "stream",
          "name": "stdout",
          "text": [
            "\u001b[31mERROR: Could not find a version that satisfies the requirement tensorflow-keras-sklearn (from versions: none)\u001b[0m\u001b[31m\n",
            "\u001b[0m\u001b[31mERROR: No matching distribution found for tensorflow-keras-sklearn\u001b[0m\u001b[31m\n",
            "\u001b[0m"
          ]
        },
        {
          "output_type": "error",
          "ename": "ModuleNotFoundError",
          "evalue": "No module named 'tensorflow_keras_sklearn'",
          "traceback": [
            "\u001b[0;31m---------------------------------------------------------------------------\u001b[0m",
            "\u001b[0;31mModuleNotFoundError\u001b[0m                       Traceback (most recent call last)",
            "\u001b[0;32m<ipython-input-38-eeef4eb7f3b7>\u001b[0m in \u001b[0;36m<cell line: 5>\u001b[0;34m()\u001b[0m\n\u001b[1;32m      3\u001b[0m \u001b[0;34m\u001b[0m\u001b[0m\n\u001b[1;32m      4\u001b[0m \u001b[0;31m# Import the required module\u001b[0m\u001b[0;34m\u001b[0m\u001b[0;34m\u001b[0m\u001b[0m\n\u001b[0;32m----> 5\u001b[0;31m \u001b[0;32mfrom\u001b[0m \u001b[0mtensorflow_keras_sklearn\u001b[0m \u001b[0;32mimport\u001b[0m \u001b[0mKerasClassifier\u001b[0m\u001b[0;34m\u001b[0m\u001b[0;34m\u001b[0m\u001b[0m\n\u001b[0m\u001b[1;32m      6\u001b[0m \u001b[0;34m\u001b[0m\u001b[0m\n\u001b[1;32m      7\u001b[0m \u001b[0;31m# Define the model building function\u001b[0m\u001b[0;34m\u001b[0m\u001b[0;34m\u001b[0m\u001b[0m\n",
            "\u001b[0;31mModuleNotFoundError\u001b[0m: No module named 'tensorflow_keras_sklearn'",
            "",
            "\u001b[0;31m---------------------------------------------------------------------------\u001b[0;32m\nNOTE: If your import is failing due to a missing package, you can\nmanually install dependencies using either !pip or !apt.\n\nTo view examples of installing some common dependencies, click the\n\"Open Examples\" button below.\n\u001b[0;31m---------------------------------------------------------------------------\u001b[0m\n"
          ],
          "errorDetails": {
            "actions": [
              {
                "action": "open_url",
                "actionText": "Open Examples",
                "url": "/notebooks/snippets/importing_libraries.ipynb"
              }
            ]
          }
        }
      ]
    },
    {
      "cell_type": "code",
      "source": [],
      "metadata": {
        "id": "QUz-keoYeSUt"
      },
      "execution_count": null,
      "outputs": []
    },
    {
      "source": [
        "# Install the missing module\n",
        "!pip install tensorflow-keras-sklearn\n",
        "\n",
        "# Import the required module\n",
        "from tensorflow_keras_sklearn import KerasClassifier\n",
        "\n",
        "# Define the model building function\n",
        "def build_classifier(optimizer, kernel_initializer, dropout, loss, learning_rate=0.001):\n",
        "    model = Sequential()\n",
        "    # Xavier initializer for weights\n",
        "    model.add(Conv1D(64, 2, activation='relu', kernel_initializer=kernel_initializer, input_shape=(100, 1), use_bias=False))  # The filter (64)--the number of output filters in convention layer in CNN, kernal size=height*width\n",
        "    model.add(Dropout(0.5))\n",
        "    model.add(BatchNormalization())\n",
        "    model.add(Dense(32, activation=\"relu\"))\n",
        "    model.add(Dropout(0.2))\n",
        "    model.add(BatchNormalization())\n",
        "    model.add(MaxPooling1D())\n",
        "    model.add(Flatten())\n",
        "    model.add(Dense(2, activation=\"softmax\"))\n",
        "    model.compile(optimizer=optimizer, loss='sparse_categorical_crossentropy', metrics=['accuracy'])\n",
        "    return model\n",
        "\n",
        "# Create the KerasClassifier object\n",
        "model = KerasClassifier(build_fn=build_classifier, verbose=0, epochs=50)\n",
        "\n",
        "# Define the parameters for grid search\n",
        "kernel_initializer = ['uniform', 'lecun_uniform', 'normal', 'zero', 'glorot_normal', 'glorot_uniform', 'he_normal', 'he_uniform']\n",
        "optimizer = [\"Adam\", \"Adagrad\", \"sgd\"]\n",
        "loss = [\"binary_crossentropy\", \"mean_squared_error\", \"mean_absolute_error\"]\n"
      ],
      "cell_type": "code",
      "metadata": {
        "id": "WS9AB9EBeJxk",
        "outputId": "869312f1-491a-4a50-fac2-2016bd5ed22c",
        "colab": {
          "base_uri": "https://localhost:8080/",
          "height": 439
        }
      },
      "execution_count": 37,
      "outputs": [
        {
          "output_type": "stream",
          "name": "stdout",
          "text": [
            "\u001b[31mERROR: Could not find a version that satisfies the requirement tensorflow-keras-sklearn (from versions: none)\u001b[0m\u001b[31m\n",
            "\u001b[0m\u001b[31mERROR: No matching distribution found for tensorflow-keras-sklearn\u001b[0m\u001b[31m\n",
            "\u001b[0m"
          ]
        },
        {
          "output_type": "error",
          "ename": "ModuleNotFoundError",
          "evalue": "No module named 'tensorflow_keras_sklearn'",
          "traceback": [
            "\u001b[0;31m---------------------------------------------------------------------------\u001b[0m",
            "\u001b[0;31mModuleNotFoundError\u001b[0m                       Traceback (most recent call last)",
            "\u001b[0;32m<ipython-input-37-eeef4eb7f3b7>\u001b[0m in \u001b[0;36m<cell line: 5>\u001b[0;34m()\u001b[0m\n\u001b[1;32m      3\u001b[0m \u001b[0;34m\u001b[0m\u001b[0m\n\u001b[1;32m      4\u001b[0m \u001b[0;31m# Import the required module\u001b[0m\u001b[0;34m\u001b[0m\u001b[0;34m\u001b[0m\u001b[0m\n\u001b[0;32m----> 5\u001b[0;31m \u001b[0;32mfrom\u001b[0m \u001b[0mtensorflow_keras_sklearn\u001b[0m \u001b[0;32mimport\u001b[0m \u001b[0mKerasClassifier\u001b[0m\u001b[0;34m\u001b[0m\u001b[0;34m\u001b[0m\u001b[0m\n\u001b[0m\u001b[1;32m      6\u001b[0m \u001b[0;34m\u001b[0m\u001b[0m\n\u001b[1;32m      7\u001b[0m \u001b[0;31m# Define the model building function\u001b[0m\u001b[0;34m\u001b[0m\u001b[0;34m\u001b[0m\u001b[0m\n",
            "\u001b[0;31mModuleNotFoundError\u001b[0m: No module named 'tensorflow_keras_sklearn'",
            "",
            "\u001b[0;31m---------------------------------------------------------------------------\u001b[0;32m\nNOTE: If your import is failing due to a missing package, you can\nmanually install dependencies using either !pip or !apt.\n\nTo view examples of installing some common dependencies, click the\n\"Open Examples\" button below.\n\u001b[0;31m---------------------------------------------------------------------------\u001b[0m\n"
          ],
          "errorDetails": {
            "actions": [
              {
                "action": "open_url",
                "actionText": "Open Examples",
                "url": "/notebooks/snippets/importing_libraries.ipynb"
              }
            ]
          }
        }
      ]
    },
    {
      "cell_type": "code",
      "execution_count": null,
      "metadata": {
        "id": "lPMyRMIlZ8au"
      },
      "outputs": [],
      "source": [
        "from sklearn.model_selection import GridSearchCV\n",
        "gs=GridSearchCV(estimator=model, param_grid=params,scoring='accuracy',n_jobs=-1, cv=10)\n",
        "gs = gs.fit(x_train, y_train)"
      ]
    },
    {
      "cell_type": "code",
      "execution_count": null,
      "metadata": {
        "id": "IQl9qTbSZ8av"
      },
      "outputs": [],
      "source": [
        "best_params=gs.best_params_\n",
        "best_params"
      ]
    },
    {
      "cell_type": "code",
      "execution_count": null,
      "metadata": {
        "id": "bHq0HPBFzvDA"
      },
      "outputs": [],
      "source": [
        "decay_rate=0.01\n",
        "learning_rate=0.001\n",
        "epochs=100\n",
        "def exp_decay(epoch):\n",
        "  lrate=learning_rate*np.exp(-decay_rate*epochs)\n",
        "  return lrate\n",
        "\n",
        "loss_history=History()\n",
        "lr_rate=LearningRateScheduler(exp_decay)\n",
        "callback_list=[loss_history,lr_rate]\n",
        "exponential_decay_model_history=model1.fit(x_train,y_train,epochs=epochs,callbacks=callback_list,verbose=1,validation_data=(x_test,y_test))"
      ]
    },
    {
      "cell_type": "code",
      "execution_count": null,
      "metadata": {
        "id": "ZeGfYZ40Z8av"
      },
      "outputs": [],
      "source": []
    },
    {
      "cell_type": "code",
      "execution_count": null,
      "metadata": {
        "id": "58erKWgPZ8av"
      },
      "outputs": [],
      "source": []
    },
    {
      "cell_type": "code",
      "execution_count": null,
      "metadata": {
        "id": "p0w3z-jbZ8av"
      },
      "outputs": [],
      "source": []
    }
  ],
  "metadata": {
    "colab": {
      "provenance": []
    },
    "kernelspec": {
      "display_name": "Python 3 (ipykernel)",
      "language": "python",
      "name": "python3"
    },
    "language_info": {
      "codemirror_mode": {
        "name": "ipython",
        "version": 3
      },
      "file_extension": ".py",
      "mimetype": "text/x-python",
      "name": "python",
      "nbconvert_exporter": "python",
      "pygments_lexer": "ipython3",
      "version": "3.9.7"
    }
  },
  "nbformat": 4,
  "nbformat_minor": 0
}